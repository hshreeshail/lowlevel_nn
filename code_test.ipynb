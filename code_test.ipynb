{
 "cells": [
  {
   "cell_type": "code",
   "execution_count": 9,
   "metadata": {},
   "outputs": [
    {
     "name": "stdout",
     "output_type": "stream",
     "text": [
      "torch.Size([7, 32]) torch.Size([9, 32])\n"
     ]
    }
   ],
   "source": [
    "## Write an encoder-decoder network to handle single input.\n",
    "## Aim is to understand the computation graph of an RNN seq2seq model without getting into\n",
    "## the practicalities of having to deal with artifacts required for practical purposes,\n",
    "## ex: batching and padding done for efficient training.\n",
    "\n",
    "import torch\n",
    "import torch.nn as nn\n",
    "\n",
    "class Encoder(nn.Module):\n",
    "  def __init__(self, input_size, hidden_size, num_layers=1, bidirectional=False):\n",
    "    super(Encoder, self).__init__()\n",
    "    self.num_layers = num_layers\n",
    "    self.bidirectional = bidirectional\n",
    "    self.rnn = nn.GRU(input_size, hidden_size, num_layers, \n",
    "                      batch_first=True, bidirectional=bidirectional)\n",
    "  \n",
    "  def forward(self, x):\n",
    "    return self.rnn(x)\n",
    "\n",
    "encoder = Encoder(input_size=16, hidden_size=32, num_layers=3, bidirectional=False)\n",
    "input = torch.randn((7,16))\n",
    "op_final_layer, op_final_ts = encoder(input)\n",
    "\n"
   ]
  },
  {
   "cell_type": "code",
   "execution_count": null,
   "metadata": {},
   "outputs": [],
   "source": []
  }
 ],
 "metadata": {
  "kernelspec": {
   "display_name": "Python 3.9.12 ('hagrid')",
   "language": "python",
   "name": "python3"
  },
  "language_info": {
   "codemirror_mode": {
    "name": "ipython",
    "version": 3
   },
   "file_extension": ".py",
   "mimetype": "text/x-python",
   "name": "python",
   "nbconvert_exporter": "python",
   "pygments_lexer": "ipython3",
   "version": "3.9.12"
  },
  "orig_nbformat": 4,
  "vscode": {
   "interpreter": {
    "hash": "a31ace264ff6bdb66955af0418c53b88463898611b977e85836f12788415ae0e"
   }
  }
 },
 "nbformat": 4,
 "nbformat_minor": 2
}
